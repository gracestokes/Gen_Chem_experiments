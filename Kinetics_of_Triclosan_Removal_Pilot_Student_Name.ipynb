{
  "nbformat": 4,
  "nbformat_minor": 0,
  "metadata": {
    "kernelspec": {
      "display_name": "Python 3",
      "language": "python",
      "name": "python3"
    },
    "language_info": {
      "codemirror_mode": {
        "name": "ipython",
        "version": 3
      },
      "file_extension": ".py",
      "mimetype": "text/x-python",
      "name": "python",
      "nbconvert_exporter": "python",
      "pygments_lexer": "ipython3",
      "version": "3.8.3"
    },
    "colab": {
      "name": "Kinetics of Triclosan Removal - Pilot - Student Name.ipynb",
      "provenance": [],
      "collapsed_sections": []
    }
  },
  "cells": [
    {
      "cell_type": "markdown",
      "metadata": {
        "id": "FfsoiMAQSQiT"
      },
      "source": [
        "Written by Dr. Hoda Mirafzal, Dr. Grace Stokes, and Dr. Megan Tichy\n",
        "\n",
        "## Upon completion of this exercise, students should be able to: \n",
        "*   Assess integrated rate law plots to determine the order of a reaction with respect to a specific reactant\n",
        "*   Predict the half-life of first or second order decay reaction from concentration/time data\n",
        "*   Visualize the differences between 1st and 2nd order kinetic rate laws using Python graphics\n",
        "*   Discriminate which theoretical model best matches experimental data"
      ]
    },
    {
      "cell_type": "markdown",
      "metadata": {
        "id": "TdxnxKoHSQiV"
      },
      "source": [
        "##**Before starting this excercise, make a copy of this file (Go to File > Save a copy in Drive). Rename the copy with YOUR (student's) name (not your instructor's name). Make sure to share the file with your instructor and TA.**"
      ]
    },
    {
      "cell_type": "markdown",
      "metadata": {
        "id": "nWutTBPCSQiX"
      },
      "source": [
        "# Python Basics\n",
        "In this exercise, we will use Python code to visualize how the concentration of a reactant changes as a function of time depending on the reaction order. **You don't have to know any python or any programming to go through this exercise,** but if you'd like to learn more, see this website: https://blogs.scu.edu/stokeslab/learning-python-in-general-chemistry/\n",
        "\n",
        "Helpful hints:\n",
        "\n",
        "*   Hashtags (<i>#</i>) at the beginning of a line signify comments and get color-coded as green but do not impact the execution of the code.\n",
        "*   The notebook only executes the current code block. This can have several unintended consequences. If you change a value and then go back and run an earlier code block, it will use the new value, not the first defined value, which may give you incorrect analysis. \n",
        "*   Similarly, if you open your notebook later, or try to run a code block after having changed something in an earlier block, you should go through every cell and hit \"shift-enter\" until you get to the cell where you want to see your updated results.\n",
        "\n",
        "\n",
        "## STEP 1. IMPORT LIBRARIES\n",
        "The first step in any python exercise is to bring in (or import) the libraries for numerical operations and graphics. That's what the next cell does. \n",
        "Click in the box, then press Shift and Enter at the same time.</br>"
      ]
    },
    {
      "cell_type": "code",
      "metadata": {
        "id": "AMPhz76xSQiY"
      },
      "source": [
        "# Execute this cell with shift-enter or by left-clicking the \"play button\" to the left. \n",
        "# This cell imports various libraries and packages that we will need\n",
        "\n",
        "# numpy is used for numerical operations\n",
        "import numpy as np\n",
        "\n",
        "# matplotlib.pyplot is used for graphics\n",
        "import matplotlib.pyplot as plt\n",
        "\n",
        "# We will use pandas to make data tables\n",
        "import pandas as pd\n",
        "\n",
        "print('You did it! Libraries are now imported.')"
      ],
      "execution_count": null,
      "outputs": []
    },
    {
      "cell_type": "markdown",
      "metadata": {
        "id": "HiZ_eN3NSQiW"
      },
      "source": [
        "# Kinetics of Triclosan Removal by Activated Charcoal\n",
        "\n",
        "Triclosan is an antimicrobial and antifungal agent that is used in many beauty supplies, soaps, and toothpaste. High levels of triclosan in the environment have raised concern about our constant exposure to the drug. One of the methods available to remove triclosan from contaminated waste water is to use activated charcoal as an adsorbent.\n",
        "\n",
        "The kinetics of stoichiometrically simple reactions can be described using what is called the **<i>order</i>** of a reaction.\n",
        "\n",
        "For the general reaction $ A \\longrightarrow products $, described by the rate law $ rate =k[A]^n$, the reaction is $ n^{th} $ order with respect to the reactant $ A $. We will use the data you collected in lab to investigate the order of the reaction between triclosan and activated charcoal. \n",
        "\n",
        "## STEP 2. IMPORT DATA INTO TABLE\n",
        "Next, let's create a table with the data you have collected in the lab. In the cell below, you will enter the ticlosan concentration values for all of the aliquots you collected.\n",
        "  \n",
        "\n",
        "<p>In the cell below, <b>time_min_exp</b> stands for the points in time (in units of minutes) when you took an aliquot from your triclosan solution. You were asked to take aliquots about every ten minutes. Change the values for <b>time_min_exp</b> to the correct time values at which you took each aliquot. \n",
        "\n",
        "<p><b>triclosan_conc_ppm_exp</b> stands for the concentration of each triclosan aliquot in units of ppm. Change the values to reflect the triclosan concentrations of your experimental aliquots. Remember that you have to use the calibration curve you constructed to convert the absorbance value for each aliquot to a concentration value in units of ppm. Do NOT change anything else in the code. When done, execute the cell by shift+enter. </p>\n",
        "\n"
      ]
    },
    {
      "cell_type": "code",
      "metadata": {
        "id": "qH6nvWDNeV_a"
      },
      "source": [
        "# Execute this cell with shift-enter or by clicking the \"play button\" to the left.\n",
        "\n",
        "# In the command below, we input the times (in minutes) when we collect each data point.\n",
        "# In python, arrays are data structures like lists. In this case, you want to make a list of numbers that represents the times at which you collected data.\n",
        "# The function np.array allows you to input values that you type directly into a list.\n",
        "# In Python, brackets are used to index a set of numbers into an array.\n",
        "# Later in the code, instead of asking python to perform calculations with each individual data point, we simply ask it to perform the calculation on the array and it automatically applies the calculation to all numbers in the array.\n",
        "time_min_exp = np.array([0.0,10.0,20.0,30.0,40.0,50.0,60.0])\n",
        "      \n",
        "# In the command below, we input the triclosan concentrations (in ppm) for each of collected aliquots.\n",
        "triclosan_conc_ppm_exp = np.array([23.18,15.39,12.24,7.65,5.55,6.05,4.89])\n",
        "\n",
        "print('Great! You have successfully entered your data.')\n"
      ],
      "execution_count": null,
      "outputs": []
    },
    {
      "cell_type": "markdown",
      "metadata": {
        "id": "ZkCwopPo8bsU"
      },
      "source": [
        "Now that you've entered your experimental data, python will summarize your data in a table. It is critical that you ensure that the generated table agrees with the experimental data that you collected in the lab. The rest of the code will calculate everything based on the data in this table."
      ]
    },
    {
      "cell_type": "code",
      "metadata": {
        "id": "eX-MFH4U8Dr3"
      },
      "source": [
        "# Execute this cell with shift-enter or by clicking the \"play button\" to the left.\n",
        "\n",
        "# Generate a table using the data inputted above\n",
        "# Create an empty dataframe\n",
        "df = pd.DataFrame()\n",
        "# Add data to the dataframe\n",
        "df['time (min)'] = time_min_exp\n",
        "df['experimental [triclosan] (ppm)'] = triclosan_conc_ppm_exp\n",
        "\n",
        "# This command makes the table in this cell\n",
        "df"
      ],
      "execution_count": null,
      "outputs": []
    },
    {
      "cell_type": "markdown",
      "metadata": {
        "id": "NuCAn2kXw6aB"
      },
      "source": [
        "# Part 1: Determing the Reaction Order by Using Integrated Rate Law Plots\n",
        "\n",
        "Recall that the integrated rate law for each common type of reaction (zeroth, first, or second order with respect to a single reactant $A$) can be plotted to obtain a straight line. \n",
        "\n",
        "For a zeroth order reaction, a plot of concentration of reactant $A$ versus time yields a straight line with a slope = $-k$. \n",
        "<p style='text-align: right;'>\n",
        "$ [A] = -kt+[A]_0$\n",
        "$\\qquad\\qquad\\qquad\\qquad\\qquad\\qquad$  (zeroth-order Integrated Rate Law) \n",
        "</p>\n",
        "\n",
        "For a first order reaction, a plot of natural log of concentration ($ln[A]$) versus time yields a straight line with a slope = $-k$. \n",
        "<p style='text-align: right;'>\n",
        "$ ln[A] = -kt+ln[A]_0$\n",
        "$\\qquad\\qquad\\qquad\\qquad\\qquad\\qquad$  (1st-order Integrated Rate Law) \n",
        "</p>\n",
        "\n",
        "And for a second order reaction, a plot of inverse concentration ($\\dfrac{1}{[A]}$) versus time yields a straight line with a slope = $k$. \n",
        "<p style='text-align: right;'>\n",
        "$ \\frac{1}{[A]} = kt+ \\frac{1}{[A]_0}$\n",
        "$\\qquad\\qquad\\qquad\\qquad\\qquad\\qquad\\qquad$ (2nd-order Integrated Rate Law)\n",
        "</p>\n",
        "\n",
        "Using these plots offers a graphical method to determine the reaction order with respect to a specific reactant. In our case, we are interested to determine the order of the reaction with respect to triclosan. The cell below will generate the three integrated rate law plots for your data."
      ]
    },
    {
      "cell_type": "code",
      "metadata": {
        "id": "3JCF--Og3c7l"
      },
      "source": [
        "# Execute this cell with shift-enter or by clicking the \"play button\" to the left.\n",
        "# The following calculates the natural log and inverse of each of the experimental concentrations.\n",
        "ln_triclosan_conc = np.log(triclosan_conc_ppm_exp)\n",
        "inv_triclosan_conc = 1/triclosan_conc_ppm_exp\n",
        "\n",
        "# This initializes the plot windows in a side-by-side view\n",
        "fig, (ax1, ax2, ax3) = plt.subplots(1, 3, figsize=(22,5))\n",
        "\n",
        "# The following import a module that allows us to get statistical information (such as R^2, standard deviation, ...) on the trendlines.\n",
        "from scipy import stats\n",
        "\n",
        "# This plots triclosan_conc_ppm_exp (independent variable) as a function of time_min_exp (dependent variable) and it labels the figure and the axes.\n",
        "# 'ro' means red circles. If you would like to change the color of your markers, use this list of abbreviations: https://docs.google.com/document/d/1AC4tEjAnqF-qclPq9FGlAg84TEGD1wNhhtSsHqd7Mbc/edit?usp=sharing\n",
        "ax1.plot(time_min_exp,triclosan_conc_ppm_exp,'ro')\n",
        "slope, intercept, r_value, p_value, std_err = stats.linregress(time_min_exp,triclosan_conc_ppm_exp)\n",
        "ax1.set_title('Figure 1. Experimental Triclosan Concentration versus Time \\n y={:4.2e} x + {:4.2E}; R^2= {:2.2f}'.format(slope,intercept, r_value*r_value))\n",
        "ax1.set_xlabel('Time (min)')\n",
        "ax1.set_ylabel('[Triclosan] (ppm)')\n",
        "ax1.grid(True)\n",
        "# The commands below fit a linear trendline to the graph.\n",
        "z1 = np.polyfit(time_min_exp, triclosan_conc_ppm_exp, 1)\n",
        "p1 = np.poly1d(z1)\n",
        "ax1.plot(time_min_exp,p1(time_min_exp),\"r--\")\n",
        "\n",
        "# This plots natural log of triclosan concentration as a function of time_min_exp and it labels the figure and the axes.\n",
        "# 'bo' means blue circles. If you would like to change the color of your markers, use this list of abbreviations: https://docs.google.com/document/d/1AC4tEjAnqF-qclPq9FGlAg84TEGD1wNhhtSsHqd7Mbc/edit?usp=sharing\n",
        "ax2.plot(time_min_exp,ln_triclosan_conc,'bo')\n",
        "slope2, intercept2, r_value2, p_value2, std_err2 = stats.linregress(time_min_exp,ln_triclosan_conc)\n",
        "ax2.set_title('Figure 2. Natural Log of Triclosan Concentration versus Time \\n y={:4.2e} x + {:4.2E}; R^2= {:2.2f}'.format(slope2,intercept2, r_value2*r_value2))\n",
        "ax2.set_xlabel('Time (min)')\n",
        "ax2.set_ylabel('ln[Triclosan]')\n",
        "ax2.grid(True)\n",
        "# The commands below fit a linear trendline to the graph.\n",
        "z2 = np.polyfit(time_min_exp, ln_triclosan_conc, 1)\n",
        "p2 = np.poly1d(z2)\n",
        "ax2.plot(time_min_exp,p2(time_min_exp),\"b--\")\n",
        "\n",
        "# This plots inverse triclosan concentration as a function of time_min_exp and it labels the figure and the axes.\n",
        "# 'go' means green circles. If you would like to change the color of your markers, use this list of abbreviations: https://docs.google.com/document/d/1AC4tEjAnqF-qclPq9FGlAg84TEGD1wNhhtSsHqd7Mbc/edit?usp=sharing\n",
        "ax3.plot(time_min_exp,inv_triclosan_conc,'go')\n",
        "slope3, intercept3, r_value3, p_value3, std_err3 = stats.linregress(time_min_exp,inv_triclosan_conc)\n",
        "ax3.set_title('Figure 3. Inverse of Triclosan Concentration versus Time \\n y={:4.2e} x + {:4.2E}; R^2= {:2.2f}'.format(slope3,intercept3, r_value3*r_value3))\n",
        "ax3.set_xlabel('Time (min)')\n",
        "ax3.set_ylabel('1/[Triclosan]')\n",
        "ax3.grid(True)\n",
        "# The commands below fit a linear trendline to the graph.\n",
        "z3 = np.polyfit(time_min_exp, inv_triclosan_conc, 1)\n",
        "p3 = np.poly1d(z3)\n",
        "ax3.plot(time_min_exp,p3(time_min_exp),\"g--\")\n",
        "\n",
        "# This command saves a snapshot of your figures in the current Google Drive folder. You may access it by clicking the folder icon on the left vertical menu bar.\n",
        "fig.tight_layout() # to avoid overlapping\n",
        "plt.savefig('Integrated_Rate_Law_Plots.png', bbox_inches='tight')"
      ],
      "execution_count": null,
      "outputs": []
    },
    {
      "cell_type": "markdown",
      "metadata": {
        "id": "TwoFqFOq8srv"
      },
      "source": [
        "## In Your Notebook:\n",
        "\n",
        "Take a screenshot of the three graphs python generated and paste it in the Results section of your notebook. Make sure to record the following in the Observations section:\n",
        "\n",
        "* According to the graphs you generated, which is most likely the order of the reaction with respect to triclosan (zeroth, first, or second)? Justify your response. \n",
        "* The value of the rate constant ($k$) from the slope of the graph that best represents the order of the reaction. Don't forget the units!"
      ]
    },
    {
      "cell_type": "markdown",
      "metadata": {
        "id": "bRmEQYxYdE5c"
      },
      "source": [
        "# Part 2: Determining the Reaction Order by Estimating the Half-life\n",
        "\n",
        "## Predicting Half-life from Experimental Data\n",
        "Were you able to determine the order of the reaction definitively from Part 1? You may have been able to easily eliminate zeroth order but, perhaps, you need a little more information before you can determine the order with confidence. An alternative method of determining the order of the reaction is to have the Python code calculate theoretical concentration values for a zeroth, first, and second order reaction. The code can do this calculation if an estimated half-life is provided. A comparison between the experimental and theoretical concentration graphs allows you to which order is closest to your experimental data. If you were able to definitively determine the reaction order in Part 1 based on integrated rate law plots, this part will just serve as a confirmation. If your plots in Part 1 were not conclusive, this part will help you decide the correct reaction order.\n",
        "\n",
        "This time, we will work with a set of experimental data that was provided to us:\n",
        "\n",
        "Table 1. Experimentally Measured Triclosan Concentrations Versus Time\n",
        "<p></p>\n",
        "\n",
        "| Time (min) | [Triclosan] (ppm) |\n",
        "|---|---|\n",
        "| 0.0 | 23.2 | \n",
        "| 10.0 | 16.3 | \n",
        "| 20.0 | 11.5 | \n",
        "| 30.0 | 8.1 | \n",
        "| 40.0 | 5.7 | \n",
        "| 50.0 | 4.0 | \n",
        "| 60.0 | 2.8 | \n",
        "\n",
        "Look carefully at the above experimental data and estimate the half life ($t_\\frac{1}{2}$). As a reminder, the $t_\\frac{1}{2}$ is the time (in minutes) that it takes for the concentration to drop to half of its initial value. Write your answer in your lab notebook. </br>\n",
        "\n",
        "<p>In the cell below, <b>half_life_min</b> stands for the value of the half-life of the reaction in units of minutes. Change the value for <b>half_life_min</b> to what you have estimated the half-life to be. The correct value should NOT be 90. Then, execute the cell by shift+enter. Write your estimated value of the half-life in your notebook. </p>\n",
        "\n"
      ]
    },
    {
      "cell_type": "code",
      "metadata": {
        "id": "6SPHMTEDSQij"
      },
      "source": [
        "# Execute this cell with shift-enter or by left-clicking the \"play button\" to the left. \n",
        "# We include the units in the variable name to avoid a syntax error. \n",
        "half_life_min = 90\n",
        "print('half life =',half_life_min,'min')"
      ],
      "execution_count": null,
      "outputs": []
    },
    {
      "cell_type": "markdown",
      "metadata": {
        "id": "o-13OxpfSQii"
      },
      "source": [
        "##Calculating Triclosan Concentrations Based on 1st and 2nd Order Rate Laws\n",
        "\n",
        "In lab, Triclosan concentration, [$triclosan$], was measured about every $10.0 mins$ over a 60 minute timespan. Our goal is to calculate the theoretical values for [$triclosan$] (ppm) at each time interval and compare the theoretical value to the provided measured value.\n",
        "\n",
        "In the following cell, python will use the estimated value of half-life that you inputted in the previous cell to determine the corresponding 1st and 2nd order rate constants ($k_1$ and $k_2$) by using the following equations:\n",
        "\n",
        "<p style='text-align: right;'>\n",
        "$k_1 = \\dfrac{ln(2)}{t_\\frac{1}{2}}$  \n",
        "$\\qquad\\qquad\\qquad\\qquad\\qquad\\qquad\\qquad$ (1st-order Half-life Equation)  \n",
        "<br>\n",
        "\n",
        "<p style='text-align: right;'>\n",
        "$k_2 = \\dfrac{1}{t_\\frac{1}{2}[A]_0}$  \n",
        "$\\qquad\\qquad\\qquad\\qquad\\qquad\\qquad\\qquad$   (2nd-order Half-life Equation)   \n",
        "<br>\n",
        "\n",
        "In the above equations, $[A]_0$ stands for the initial concentration of the reactant, in this case triclosan. \n",
        "The code will then calculate and print the theoretical triclosan concentration at each time interval by using the integrated rate laws for 1st and 2nd order reactions:\n",
        "\n",
        "<p style='text-align: right;'>\n",
        "$ [A] = [A]_0e^{-k_1t}$\n",
        "$\\qquad\\qquad\\qquad\\qquad\\qquad\\qquad$  (1st-order Integrated Rate Law) \n",
        "</p>\n",
        "\n",
        "<p style='text-align: right;'>\n",
        "$ [A] =( \\frac{1}{[A]_0}+k_2t)^{-1}$\n",
        "$\\qquad\\qquad\\qquad\\qquad\\qquad$ (2nd-order Integrated Rate Law)\n",
        "</p>\n",
        "\n"
      ]
    },
    {
      "cell_type": "code",
      "metadata": {
        "id": "ax2FdM1BSQim"
      },
      "source": [
        "# Execute this cell with shift-enter or by clicking the \"play button\" to the left.\n",
        "\n",
        "# We define initial_triclosan_conc_ppm from the concentration of the stock triclosan solution that was provided to you in the lab (concentration value at t=0 min)\n",
        "initial_triclosan_conc_ppm = 23.2\n",
        "print('Initial triclosan conc =',initial_triclosan_conc_ppm,'ppm')\n",
        "\n",
        "# In the command below, we input the times (in minutes) from Table 1.\n",
        "time_min_exp_table1 = np.array([0.0,10.0,20.0,30.0,40.0,50.0,60.0])\n",
        "      \n",
        "# In the command below, we input the triclosan concentrations (in ppm) for each of collected aliquots.\n",
        "triclosan_conc_ppm_exp_table1 = np.array([23.2,16.3,11.5,8.1,5.7,4.0,2.8])\n",
        "\n",
        "# 1st order rate law\n",
        "# Here is where we calculate ln2 and plug into the 1st-order half-life equation to get k1\n",
        "x=np.log(2)\n",
        "print(f'Half-life = {half_life_min} minutes')\n",
        "k1= x / half_life_min\n",
        "# recall that the units of k1 is min^-1\n",
        "print(f'The first order rate constant (k1)={k1:.5} min^-1.')\n",
        "# In the numpy library, exponentials are denoted as exp(...) so for example, exp(5) = e^5.\n",
        "# This line of code generates the triclosan concentration data for a 1st order reaction\n",
        "triclosan_1st_order_ppm=initial_triclosan_conc_ppm*np.exp(-k1*time_min_exp_table1)\n",
        "\n",
        "# 2nd order rate law\n",
        "# recall that the units of k2 is ppm^-1 min^-1\n",
        "k2=1/(half_life_min*initial_triclosan_conc_ppm)\n",
        "print(f'The second order rate constant (k2) is {k2:.5} ppm^-1 min^-1.')\n",
        "# Here we predict the triclosan concentration data if it was a 2nd order reaction\n",
        "# Note that ** means raised to the power of (In Python, ax^3 can be written as a*x**3)\n",
        "triclosan_2nd_order_ppm=(((1/(initial_triclosan_conc_ppm))+k2*time_min_exp_table1))**(-1)\n",
        "\n",
        "# Input the data generated above into a table\n",
        "# Create an empty dataframe\n",
        "df = pd.DataFrame()\n",
        "# Add data to the dataframe\n",
        "df['time (min)'] = time_min_exp\n",
        "df['exp[triclosan](ppm)'] = triclosan_conc_ppm_exp_table1\n",
        "df['theor[triclosan]-1st'] = triclosan_1st_order_ppm\n",
        "df['theor[triclosan]-2nd'] = triclosan_2nd_order_ppm\n",
        "\n",
        "# This command makes the table in this cell\n",
        "df"
      ],
      "execution_count": null,
      "outputs": []
    },
    {
      "cell_type": "markdown",
      "metadata": {
        "id": "eh1oWdQdSQi2"
      },
      "source": [
        "## In Your Notebook:\n",
        "\n",
        "Take a screenshot of the table python generated and paste it in the Results section of your notebook. Make sure to record the following in the Observations section:\n",
        "\n",
        "* The value of the 1st-order rate constant.\n",
        "* The value of the 2nd-order rate constant.\n",
        "* According to the table you generated, which theoretical reaction order (1st order rate law or 2nd order rate law) is closer to the experimentally-determined values for triclosan removal?"
      ]
    },
    {
      "cell_type": "markdown",
      "metadata": {
        "id": "hFVS5jHiSQi6"
      },
      "source": [
        "## Comparing the Plots of Experimental Data to Theoretical 1st and 2nd Order Rate Laws\n",
        "\n",
        "You may have noticed that the comparison of the tabulated experimental triclosan concentrations with the tabulated theoretical triclosan concentrations was not very conclusive. As you'll soon see, plotting the data will make the comparison a lot more obvious. In the next cell, we will overlay our theoretical values from the 1st and 2nd order rate laws on a graph WITH the experimental data. We will call this graph Figure 4. "
      ]
    },
    {
      "cell_type": "code",
      "metadata": {
        "id": "CErPciw8SQi6"
      },
      "source": [
        "# Execute this cell with shift-enter or by clicking the \"play button\" to the left.\n",
        "\n",
        "# This code below generates 50 evenly-spaced points between 0 and 60 minutes\n",
        "time_min_theor=np.linspace(0,60)\n",
        "\n",
        "#recall that init_triclosan_conc_ppm, k1 and k2 were previously defined so we do not need to re-define it \n",
        "# (unless we want to change the value for half-life)\n",
        "triclosan_theor_1st_ppm= initial_triclosan_conc_ppm*np.exp(-k1*time_min_theor)\n",
        "triclosan_theor_2nd_ppm=(((1/(initial_triclosan_conc_ppm))+k2*time_min_theor))**(-1)\n",
        "\n",
        "# This initializes the plot window\n",
        "plt.figure()\n",
        "\n",
        "# This plots triclosan_conc_ppm_exp (independent variable) as a function of the experimental times (time_min_exp)\n",
        "plt.title('Figure 4. Theoretical versus Experimental Triclosan Concentrations')\n",
        "plt.xlabel('Time (min)')\n",
        "plt.ylabel('Triclosan (ppm)')\n",
        "plt.grid(True)\n",
        "\n",
        "# These commands plot experimental data on the same graph as theoretical values for 1st order and 2nd order reactions.\n",
        "# 'ro' means red circles, 'b-' means blue line and 'g.' means green dots \n",
        "# If you would like to change the color of your markers, \n",
        "# use this list of abbreviations: https://docs.google.com/document/d/1AC4tEjAnqF-qclPq9FGlAg84TEGD1wNhhtSsHqd7Mbc/edit?usp=sharing\n",
        "plt.plot(time_min_exp,triclosan_conc_ppm_exp_table1,'ro',label='experimental')\n",
        "plt.plot(time_min_theor,triclosan_theor_1st_ppm,'b-',label='1st order theoretical')\n",
        "plt.plot(time_min_theor,triclosan_theor_2nd_ppm,'g.', label='2nd order theoretical')\n",
        "\n",
        "#This command generates a legend.\n",
        "plt.legend()\n",
        "\n",
        "# This command saves a snapshot of your figure in the current Google Drive folder. You may access it by clicking the folder icon on the left vertical menu bar.\n",
        "fig.tight_layout() # to avoid overlapping\n",
        "plt.savefig('Theoretical_Versus_Experimental_Plots.png', bbox_inches='tight')"
      ],
      "execution_count": null,
      "outputs": []
    },
    {
      "cell_type": "markdown",
      "metadata": {
        "id": "15YLiQRoeLKA"
      },
      "source": [
        "## In Your Notebook:\n",
        "Take a screenshot of Figure 4 and paste it in the Results section of your lab notebook. In the Observations section of your notebook, answer the following questions: \n",
        "* Based on \"Figure 4. Theoretical versus experimental triclosan concentrations\", which theoretical reaction order (1st order rate law or 2nd order rate law) is closer to the experimentally-determined values for the reaction of triclosan removal by charcoal? \n",
        "* What are the advantages and disadvantages of doing a visual comparison using the graph above versus a numerical comparison from the data table you made in the previous part?\n",
        "* Go back and change the value of the half-life that you inputted. How does a decrease/ increase in the value of the estimated half-life change the value of the rate constants and the graphs? As an example, try inputting a half-life of 35 minutes and a half-life of 5 minutes. Record these observations. Could you have gotten the wrong order for the reaction by estimating the wrong half-life? Record these observations. **Remember that every time you change the value of the half-life, you should re-run the cells.**  \n",
        "\n",
        "**When you're done experimenting with the half-life value, don't forget to change the value of the half-life to your original estimate and re-run the cells.**"
      ]
    },
    {
      "cell_type": "markdown",
      "metadata": {
        "id": "evYLnzN94zM9"
      },
      "source": [
        "### Why can't we do this with EXCEL?\n",
        "\n",
        "Python can be used to solve more sophisticated (and realistic) kinetics problems. Even though the calculations we showed above can be done with EXCEL because we can solve the differential equations numerically, there are some rate laws where an analytical integrated rate law is NOT possible. For those cases, you will need to use computational methods (like Python) to solve differential equations and predict the concentrations of products at later times. \n",
        "\n",
        "In an upper-division course taught in our department (Chem 150: Biophysical Chemistry), you will learn about reactions of the type \n",
        "<p style='text-align: right;'>\n",
        "$A \\longrightarrow  B  \\longrightarrow  C $\n",
        "</p>\n",
        "<p>This leads to a build-up and then depletion of B. You will see that with pencil/paper or even EXCEL, you quickly get to mathematical equations that aren't easily solved by hand, hence the need for computer simulations! </p>\n",
        "\n",
        "### Final Notes about Grading: \n",
        "In addition to answering the \"In Your Notebook\" questions in your Google doc notebook, your lab instructor will be looking for evidence of your careful reading and following of instructions embedded in the exercise. You will submit a link to this exercise as part of your postlab report on CAMINO.</p>"
      ]
    }
  ]
}